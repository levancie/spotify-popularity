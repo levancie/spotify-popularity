{
 "cells": [
  {
   "cell_type": "markdown",
   "id": "096198cd",
   "metadata": {},
   "source": [
    "# Data Wrangling |  Modeling Spotify album popularity\n",
    "## Leo Evancie, Springboard Data Science Career Track\n",
    "\n",
    "This is the first step in a capstone project to model album popularity on Spotify, a popular music streaming service. Further project details and rationale can be found in the document 'Proposal.pdf'.\n",
    "\n",
    "Note: This notebook makes use of <i>Spotipy</i>, a Python library designed for Spotify API calls. I referred to the Medium article \"<a href=\"https://medium.com/@maxtingle/getting-started-with-spotifys-api-spotipy-197c3dc6353b\">Getting Started with Spotify's API & Spotipy</a>\" by Max Tingle (2019), as well as the <a href=\"https://spotipy.readthedocs.io/en/latest/#\"><i>Spotipy</i> documentation.</a>"
   ]
  },
  {
   "cell_type": "markdown",
   "id": "c5922648",
   "metadata": {},
   "source": [
    "### 1. Data collection\n",
    "\n",
    "First, import the relevant libraries:"
   ]
  },
  {
   "cell_type": "code",
   "execution_count": 1,
   "id": "feac7e95",
   "metadata": {},
   "outputs": [],
   "source": [
    "import pandas as pd\n",
    "import spotipy\n",
    "from spotipy.oauth2 import SpotifyClientCredentials\n",
    "from dotenv import load_dotenv"
   ]
  },
  {
   "cell_type": "markdown",
   "id": "ede1244f",
   "metadata": {},
   "source": [
    "Load my Spotify developer credentials, stored as environmental variables. Instantiate the Spotify API client."
   ]
  },
  {
   "cell_type": "code",
   "execution_count": 2,
   "id": "1da48bc3",
   "metadata": {},
   "outputs": [],
   "source": [
    "load_dotenv()\n",
    "sp = spotipy.Spotify(client_credentials_manager=SpotifyClientCredentials())"
   ]
  },
  {
   "cell_type": "markdown",
   "id": "a42b16b8",
   "metadata": {},
   "source": [
    "Retrieve a sampling of 20 albums (the default response limit) from the year 2021 to get a sense of the response structure."
   ]
  },
  {
   "cell_type": "code",
   "execution_count": 3,
   "id": "e7c4b803",
   "metadata": {},
   "outputs": [],
   "source": [
    "album_results = sp.search(q='year:2021', type='album')"
   ]
  },
  {
   "cell_type": "code",
   "execution_count": 4,
   "id": "3ea55cbb",
   "metadata": {},
   "outputs": [
    {
     "data": {
      "text/plain": [
       "dict"
      ]
     },
     "execution_count": 4,
     "metadata": {},
     "output_type": "execute_result"
    }
   ],
   "source": [
    "type(album_results)"
   ]
  },
  {
   "cell_type": "code",
   "execution_count": 6,
   "id": "63ec2495",
   "metadata": {},
   "outputs": [
    {
     "data": {
      "text/plain": [
       "dict_keys(['album_type', 'artists', 'available_markets', 'external_urls', 'href', 'id', 'images', 'name', 'release_date', 'release_date_precision', 'total_tracks', 'type', 'uri'])"
      ]
     },
     "execution_count": 6,
     "metadata": {},
     "output_type": "execute_result"
    }
   ],
   "source": [
    "album_results['albums']['items'][0].keys()"
   ]
  },
  {
   "cell_type": "markdown",
   "id": "9c11d431",
   "metadata": {},
   "source": [
    "I notice that <i>popularity</i> is not listed among the returned data. This is the variable I want my model to predict. Let's try a search for individual tracks instead."
   ]
  },
  {
   "cell_type": "code",
   "execution_count": 7,
   "id": "155ecfe6",
   "metadata": {},
   "outputs": [
    {
     "data": {
      "text/plain": [
       "dict_keys(['album', 'artists', 'available_markets', 'disc_number', 'duration_ms', 'explicit', 'external_ids', 'external_urls', 'href', 'id', 'is_local', 'name', 'popularity', 'preview_url', 'track_number', 'type', 'uri'])"
      ]
     },
     "execution_count": 7,
     "metadata": {},
     "output_type": "execute_result"
    }
   ],
   "source": [
    "track_results = sp.search(q='year:2021', type='track')\n",
    "track_results = track_results['tracks']['items']\n",
    "track_results[0].keys()"
   ]
  },
  {
   "cell_type": "markdown",
   "id": "3ab93b69",
   "metadata": {},
   "source": [
    "Bingo. I see that I will need to search for a large quantity of tracks, rather than albums, in order to develop a model for predicting popularity. As such, I can expect that <i>album</i> and <i>artists</i> will heavily influence popularity. Hopefully, I can identify plenty of other influential features; an artist can't change their identity in the hope of boosting their music's popularity score!\n",
    "\n",
    "I'll look at the sample results in a DataFrame to get a clearer picture of the values. I will choose only those variables that seem relevant to the question at hand. For example, I will exclude <i>preview_url</i>, and other references, keeping only <i>track_id</i> as a unique identifier."
   ]
  },
  {
   "cell_type": "code",
   "execution_count": 8,
   "id": "586b037c",
   "metadata": {},
   "outputs": [],
   "source": [
    "track_id = []\n",
    "name = []\n",
    "artist_name = []\n",
    "popularity = []\n",
    "duration_ms = []\n",
    "explicit = []\n",
    "track_number = []\n",
    "available_markets = []\n",
    "disc_number = []\n",
    "album_type = []\n",
    "\n",
    "for track in track_results:\n",
    "    track_id.append(track['id'])\n",
    "    name.append(track['name'])\n",
    "    artist_name.append(track['artists'][0]['name'])\n",
    "    popularity.append(track['popularity'])\n",
    "    duration_ms.append(track['duration_ms'])\n",
    "    explicit.append(track['explicit'])\n",
    "    track_number.append(track['track_number'])\n",
    "    available_markets.append(track['available_markets'])\n",
    "    disc_number.append(track['disc_number'])\n",
    "    album_type.append(track['album']['album_type'])"
   ]
  },
  {
   "cell_type": "code",
   "execution_count": 9,
   "id": "2fe5bfdd",
   "metadata": {},
   "outputs": [],
   "source": [
    "track_df = pd.DataFrame({\n",
    "    'track_id':track_id,\n",
    "    'name':name,\n",
    "    'artist_name':artist_name,\n",
    "    'popularity':popularity,\n",
    "    'duration_ms':duration_ms,\n",
    "    'explicit':explicit,\n",
    "    'track_number':track_number,\n",
    "    'disc_number':disc_number,\n",
    "    'available_markets':available_markets,\n",
    "    'album_type':album_type\n",
    "})"
   ]
  },
  {
   "cell_type": "code",
   "execution_count": 10,
   "id": "36d9dcd8",
   "metadata": {},
   "outputs": [
    {
     "data": {
      "text/html": [
       "<div>\n",
       "<style scoped>\n",
       "    .dataframe tbody tr th:only-of-type {\n",
       "        vertical-align: middle;\n",
       "    }\n",
       "\n",
       "    .dataframe tbody tr th {\n",
       "        vertical-align: top;\n",
       "    }\n",
       "\n",
       "    .dataframe thead th {\n",
       "        text-align: right;\n",
       "    }\n",
       "</style>\n",
       "<table border=\"1\" class=\"dataframe\">\n",
       "  <thead>\n",
       "    <tr style=\"text-align: right;\">\n",
       "      <th></th>\n",
       "      <th>track_id</th>\n",
       "      <th>name</th>\n",
       "      <th>artist_name</th>\n",
       "      <th>popularity</th>\n",
       "      <th>duration_ms</th>\n",
       "      <th>explicit</th>\n",
       "      <th>track_number</th>\n",
       "      <th>disc_number</th>\n",
       "      <th>available_markets</th>\n",
       "      <th>album_type</th>\n",
       "    </tr>\n",
       "  </thead>\n",
       "  <tbody>\n",
       "    <tr>\n",
       "      <th>0</th>\n",
       "      <td>748mdHapucXQri7IAO8yFK</td>\n",
       "      <td>Kiss Me More (feat. SZA)</td>\n",
       "      <td>Doja Cat</td>\n",
       "      <td>99</td>\n",
       "      <td>208866</td>\n",
       "      <td>True</td>\n",
       "      <td>1</td>\n",
       "      <td>1</td>\n",
       "      <td>[AD, AE, AG, AL, AM, AO, AR, AT, AU, AZ, BA, B...</td>\n",
       "      <td>single</td>\n",
       "    </tr>\n",
       "    <tr>\n",
       "      <th>1</th>\n",
       "      <td>08ejYlzduA6O82FJgnFKQz</td>\n",
       "      <td>Year 2020</td>\n",
       "      <td>Leonardo Makno</td>\n",
       "      <td>37</td>\n",
       "      <td>133281</td>\n",
       "      <td>False</td>\n",
       "      <td>2</td>\n",
       "      <td>1</td>\n",
       "      <td>[AD, AE, AG, AL, AM, AO, AR, AT, AU, AZ, BA, B...</td>\n",
       "      <td>single</td>\n",
       "    </tr>\n",
       "    <tr>\n",
       "      <th>2</th>\n",
       "      <td>0UsmyJDsst2xhX1ZiFF3JW</td>\n",
       "      <td>Year,2015</td>\n",
       "      <td>Schoolgirl Byebye</td>\n",
       "      <td>25</td>\n",
       "      <td>74301</td>\n",
       "      <td>False</td>\n",
       "      <td>1</td>\n",
       "      <td>1</td>\n",
       "      <td>[AD, AE, AG, AL, AM, AO, AR, AT, AU, AZ, BA, B...</td>\n",
       "      <td>single</td>\n",
       "    </tr>\n",
       "    <tr>\n",
       "      <th>3</th>\n",
       "      <td>0koiLB5LKB5fXOuZKNmQvc</td>\n",
       "      <td>King</td>\n",
       "      <td>Years &amp; Years</td>\n",
       "      <td>0</td>\n",
       "      <td>214834</td>\n",
       "      <td>False</td>\n",
       "      <td>19</td>\n",
       "      <td>1</td>\n",
       "      <td>[AE, AL, AT, AU, BA, BE, BG, BH, BY, CH, CY, C...</td>\n",
       "      <td>album</td>\n",
       "    </tr>\n",
       "    <tr>\n",
       "      <th>4</th>\n",
       "      <td>6PERP62TejQjgHu81OHxgM</td>\n",
       "      <td>good 4 u</td>\n",
       "      <td>Olivia Rodrigo</td>\n",
       "      <td>98</td>\n",
       "      <td>178147</td>\n",
       "      <td>True</td>\n",
       "      <td>1</td>\n",
       "      <td>1</td>\n",
       "      <td>[AD, AE, AG, AL, AM, AO, AR, AT, AU, AZ, BA, B...</td>\n",
       "      <td>single</td>\n",
       "    </tr>\n",
       "    <tr>\n",
       "      <th>5</th>\n",
       "      <td>3wLWURwOlQZ7O3VWcV4BJJ</td>\n",
       "      <td>Ingrato amor - Live Streaming audio and video ...</td>\n",
       "      <td>Amaranta</td>\n",
       "      <td>3</td>\n",
       "      <td>352647</td>\n",
       "      <td>False</td>\n",
       "      <td>13</td>\n",
       "      <td>1</td>\n",
       "      <td>[AD, AE, AG, AL, AM, AO, AR, AT, AU, AZ, BA, B...</td>\n",
       "      <td>album</td>\n",
       "    </tr>\n",
       "    <tr>\n",
       "      <th>6</th>\n",
       "      <td>7BFk1nSfwfkDOgnNNeY7Yn</td>\n",
       "      <td>wish i dropped out like brakence interlude</td>\n",
       "      <td>Satoshi Love</td>\n",
       "      <td>0</td>\n",
       "      <td>83000</td>\n",
       "      <td>False</td>\n",
       "      <td>4</td>\n",
       "      <td>1</td>\n",
       "      <td>[AD, AE, AG, AL, AM, AO, AR, AT, AU, AZ, BA, B...</td>\n",
       "      <td>album</td>\n",
       "    </tr>\n",
       "    <tr>\n",
       "      <th>7</th>\n",
       "      <td>41cHUAANqM4s6e55Mo8e08</td>\n",
       "      <td>Shine</td>\n",
       "      <td>Years &amp; Years</td>\n",
       "      <td>0</td>\n",
       "      <td>255506</td>\n",
       "      <td>False</td>\n",
       "      <td>16</td>\n",
       "      <td>1</td>\n",
       "      <td>[AE, AL, AR, AU, BA, BE, BG, BH, BO, BR, BY, C...</td>\n",
       "      <td>album</td>\n",
       "    </tr>\n",
       "    <tr>\n",
       "      <th>8</th>\n",
       "      <td>43PGPuHIlVOc04jrZVh9L6</td>\n",
       "      <td>RAPSTAR</td>\n",
       "      <td>Polo G</td>\n",
       "      <td>95</td>\n",
       "      <td>165925</td>\n",
       "      <td>True</td>\n",
       "      <td>1</td>\n",
       "      <td>1</td>\n",
       "      <td>[AD, AE, AG, AL, AM, AO, AR, AT, AU, AZ, BA, B...</td>\n",
       "      <td>single</td>\n",
       "    </tr>\n",
       "    <tr>\n",
       "      <th>9</th>\n",
       "      <td>0Bkir9qbwWtydC0VJQTSOD</td>\n",
       "      <td>Me siento sola - Live Streaming audio and vide...</td>\n",
       "      <td>Amaranta</td>\n",
       "      <td>4</td>\n",
       "      <td>375485</td>\n",
       "      <td>False</td>\n",
       "      <td>7</td>\n",
       "      <td>1</td>\n",
       "      <td>[AD, AE, AG, AL, AM, AO, AR, AT, AU, AZ, BA, B...</td>\n",
       "      <td>album</td>\n",
       "    </tr>\n",
       "  </tbody>\n",
       "</table>\n",
       "</div>"
      ],
      "text/plain": [
       "                 track_id                                               name  \\\n",
       "0  748mdHapucXQri7IAO8yFK                           Kiss Me More (feat. SZA)   \n",
       "1  08ejYlzduA6O82FJgnFKQz                                          Year 2020   \n",
       "2  0UsmyJDsst2xhX1ZiFF3JW                                          Year,2015   \n",
       "3  0koiLB5LKB5fXOuZKNmQvc                                               King   \n",
       "4  6PERP62TejQjgHu81OHxgM                                           good 4 u   \n",
       "5  3wLWURwOlQZ7O3VWcV4BJJ  Ingrato amor - Live Streaming audio and video ...   \n",
       "6  7BFk1nSfwfkDOgnNNeY7Yn         wish i dropped out like brakence interlude   \n",
       "7  41cHUAANqM4s6e55Mo8e08                                              Shine   \n",
       "8  43PGPuHIlVOc04jrZVh9L6                                            RAPSTAR   \n",
       "9  0Bkir9qbwWtydC0VJQTSOD  Me siento sola - Live Streaming audio and vide...   \n",
       "\n",
       "         artist_name  popularity  duration_ms  explicit  track_number  \\\n",
       "0           Doja Cat          99       208866      True             1   \n",
       "1     Leonardo Makno          37       133281     False             2   \n",
       "2  Schoolgirl Byebye          25        74301     False             1   \n",
       "3      Years & Years           0       214834     False            19   \n",
       "4     Olivia Rodrigo          98       178147      True             1   \n",
       "5           Amaranta           3       352647     False            13   \n",
       "6       Satoshi Love           0        83000     False             4   \n",
       "7      Years & Years           0       255506     False            16   \n",
       "8             Polo G          95       165925      True             1   \n",
       "9           Amaranta           4       375485     False             7   \n",
       "\n",
       "   disc_number                                  available_markets album_type  \n",
       "0            1  [AD, AE, AG, AL, AM, AO, AR, AT, AU, AZ, BA, B...     single  \n",
       "1            1  [AD, AE, AG, AL, AM, AO, AR, AT, AU, AZ, BA, B...     single  \n",
       "2            1  [AD, AE, AG, AL, AM, AO, AR, AT, AU, AZ, BA, B...     single  \n",
       "3            1  [AE, AL, AT, AU, BA, BE, BG, BH, BY, CH, CY, C...      album  \n",
       "4            1  [AD, AE, AG, AL, AM, AO, AR, AT, AU, AZ, BA, B...     single  \n",
       "5            1  [AD, AE, AG, AL, AM, AO, AR, AT, AU, AZ, BA, B...      album  \n",
       "6            1  [AD, AE, AG, AL, AM, AO, AR, AT, AU, AZ, BA, B...      album  \n",
       "7            1  [AE, AL, AR, AU, BA, BE, BG, BH, BO, BR, BY, C...      album  \n",
       "8            1  [AD, AE, AG, AL, AM, AO, AR, AT, AU, AZ, BA, B...     single  \n",
       "9            1  [AD, AE, AG, AL, AM, AO, AR, AT, AU, AZ, BA, B...      album  "
      ]
     },
     "execution_count": 10,
     "metadata": {},
     "output_type": "execute_result"
    }
   ],
   "source": [
    "track_df"
   ]
  },
  {
   "cell_type": "markdown",
   "id": "c8ac1b2b",
   "metadata": {},
   "source": [
    "A few questions occur to me at this stage. What is to be made of the <i>available_markets</i> field? Are most songs available in the same large set of markets, or perhaps one of a few groups of markets, or is there greater variation?\n",
    "\n",
    "Also, I see that one sampled track contains a feature, as included in the track name, \"Kiss Me More (feat. SZA)\". I could use a bit of string analysis to create a new Boolean field, <i>feature</i>, in case the presence of a featured artist has some bearing on popularity.\n",
    "\n",
    "Perhaps most importantly, several of the sampled tracks have a popularity score of zero. What accounts for zero popularity? Is it a missing value, and/or due to being quite new on the platform? I will need to do some serious thinking about how to handle such scores in my analysis.\n",
    "\n",
    "Before digging into any of these questions, I will generate my full dataset. Spotify allows for a maximum offset of 1,000 for their API search calls, with a maximum 50 records per call."
   ]
  },
  {
   "cell_type": "code",
   "execution_count": 11,
   "id": "4835d529",
   "metadata": {},
   "outputs": [],
   "source": [
    "track_id = []\n",
    "name = []\n",
    "artist_name = []\n",
    "popularity = []\n",
    "duration_ms = []\n",
    "explicit = []\n",
    "track_number = []\n",
    "available_markets = []\n",
    "disc_number = []\n",
    "album_type = []\n",
    "\n",
    "for i in range(0,1000,50):\n",
    "    track_results = sp.search(q='year:2021', type='track', limit=50, offset=i)\n",
    "    track_results = track_results['tracks']['items']\n",
    "    for track in track_results:\n",
    "        track_id.append(track['id'])\n",
    "        name.append(track['name'])\n",
    "        artist_name.append(track['artists'][0]['name'])\n",
    "        popularity.append(track['popularity'])\n",
    "        duration_ms.append(track['duration_ms'])\n",
    "        explicit.append(track['explicit'])\n",
    "        track_number.append(track['track_number'])\n",
    "        available_markets.append(track['available_markets'])\n",
    "        disc_number.append(track['disc_number'])\n",
    "        album_type.append(track['album']['album_type'])"
   ]
  },
  {
   "cell_type": "code",
   "execution_count": 12,
   "id": "f02d664b",
   "metadata": {},
   "outputs": [
    {
     "data": {
      "text/html": [
       "<div>\n",
       "<style scoped>\n",
       "    .dataframe tbody tr th:only-of-type {\n",
       "        vertical-align: middle;\n",
       "    }\n",
       "\n",
       "    .dataframe tbody tr th {\n",
       "        vertical-align: top;\n",
       "    }\n",
       "\n",
       "    .dataframe thead th {\n",
       "        text-align: right;\n",
       "    }\n",
       "</style>\n",
       "<table border=\"1\" class=\"dataframe\">\n",
       "  <thead>\n",
       "    <tr style=\"text-align: right;\">\n",
       "      <th></th>\n",
       "      <th>track_id</th>\n",
       "      <th>name</th>\n",
       "      <th>artist_name</th>\n",
       "      <th>popularity</th>\n",
       "      <th>duration_ms</th>\n",
       "      <th>explicit</th>\n",
       "      <th>track_number</th>\n",
       "      <th>disc_number</th>\n",
       "      <th>available_markets</th>\n",
       "      <th>album_type</th>\n",
       "    </tr>\n",
       "  </thead>\n",
       "  <tbody>\n",
       "    <tr>\n",
       "      <th>0</th>\n",
       "      <td>748mdHapucXQri7IAO8yFK</td>\n",
       "      <td>Kiss Me More (feat. SZA)</td>\n",
       "      <td>Doja Cat</td>\n",
       "      <td>99</td>\n",
       "      <td>208866</td>\n",
       "      <td>True</td>\n",
       "      <td>1</td>\n",
       "      <td>1</td>\n",
       "      <td>[AD, AE, AG, AL, AM, AO, AR, AT, AU, AZ, BA, B...</td>\n",
       "      <td>single</td>\n",
       "    </tr>\n",
       "    <tr>\n",
       "      <th>1</th>\n",
       "      <td>08ejYlzduA6O82FJgnFKQz</td>\n",
       "      <td>Year 2020</td>\n",
       "      <td>Leonardo Makno</td>\n",
       "      <td>37</td>\n",
       "      <td>133281</td>\n",
       "      <td>False</td>\n",
       "      <td>2</td>\n",
       "      <td>1</td>\n",
       "      <td>[AD, AE, AG, AL, AM, AO, AR, AT, AU, AZ, BA, B...</td>\n",
       "      <td>single</td>\n",
       "    </tr>\n",
       "    <tr>\n",
       "      <th>2</th>\n",
       "      <td>0UsmyJDsst2xhX1ZiFF3JW</td>\n",
       "      <td>Year,2015</td>\n",
       "      <td>Schoolgirl Byebye</td>\n",
       "      <td>25</td>\n",
       "      <td>74301</td>\n",
       "      <td>False</td>\n",
       "      <td>1</td>\n",
       "      <td>1</td>\n",
       "      <td>[AD, AE, AG, AL, AM, AO, AR, AT, AU, AZ, BA, B...</td>\n",
       "      <td>single</td>\n",
       "    </tr>\n",
       "    <tr>\n",
       "      <th>3</th>\n",
       "      <td>0koiLB5LKB5fXOuZKNmQvc</td>\n",
       "      <td>King</td>\n",
       "      <td>Years &amp; Years</td>\n",
       "      <td>0</td>\n",
       "      <td>214834</td>\n",
       "      <td>False</td>\n",
       "      <td>19</td>\n",
       "      <td>1</td>\n",
       "      <td>[AE, AL, AT, AU, BA, BE, BG, BH, BY, CH, CY, C...</td>\n",
       "      <td>album</td>\n",
       "    </tr>\n",
       "    <tr>\n",
       "      <th>4</th>\n",
       "      <td>6PERP62TejQjgHu81OHxgM</td>\n",
       "      <td>good 4 u</td>\n",
       "      <td>Olivia Rodrigo</td>\n",
       "      <td>98</td>\n",
       "      <td>178147</td>\n",
       "      <td>True</td>\n",
       "      <td>1</td>\n",
       "      <td>1</td>\n",
       "      <td>[AD, AE, AG, AL, AM, AO, AR, AT, AU, AZ, BA, B...</td>\n",
       "      <td>single</td>\n",
       "    </tr>\n",
       "  </tbody>\n",
       "</table>\n",
       "</div>"
      ],
      "text/plain": [
       "                 track_id                      name        artist_name  \\\n",
       "0  748mdHapucXQri7IAO8yFK  Kiss Me More (feat. SZA)           Doja Cat   \n",
       "1  08ejYlzduA6O82FJgnFKQz                 Year 2020     Leonardo Makno   \n",
       "2  0UsmyJDsst2xhX1ZiFF3JW                 Year,2015  Schoolgirl Byebye   \n",
       "3  0koiLB5LKB5fXOuZKNmQvc                      King      Years & Years   \n",
       "4  6PERP62TejQjgHu81OHxgM                  good 4 u     Olivia Rodrigo   \n",
       "\n",
       "   popularity  duration_ms  explicit  track_number  disc_number  \\\n",
       "0          99       208866      True             1            1   \n",
       "1          37       133281     False             2            1   \n",
       "2          25        74301     False             1            1   \n",
       "3           0       214834     False            19            1   \n",
       "4          98       178147      True             1            1   \n",
       "\n",
       "                                   available_markets album_type  \n",
       "0  [AD, AE, AG, AL, AM, AO, AR, AT, AU, AZ, BA, B...     single  \n",
       "1  [AD, AE, AG, AL, AM, AO, AR, AT, AU, AZ, BA, B...     single  \n",
       "2  [AD, AE, AG, AL, AM, AO, AR, AT, AU, AZ, BA, B...     single  \n",
       "3  [AE, AL, AT, AU, BA, BE, BG, BH, BY, CH, CY, C...      album  \n",
       "4  [AD, AE, AG, AL, AM, AO, AR, AT, AU, AZ, BA, B...     single  "
      ]
     },
     "execution_count": 12,
     "metadata": {},
     "output_type": "execute_result"
    }
   ],
   "source": [
    "track_df = pd.DataFrame({\n",
    "    'track_id':track_id,\n",
    "    'name':name,\n",
    "    'artist_name':artist_name,\n",
    "    'popularity':popularity,\n",
    "    'duration_ms':duration_ms,\n",
    "    'explicit':explicit,\n",
    "    'track_number':track_number,\n",
    "    'disc_number':disc_number,\n",
    "    'available_markets':available_markets,\n",
    "    'album_type':album_type\n",
    "})\n",
    "track_df.head()"
   ]
  },
  {
   "cell_type": "code",
   "execution_count": 13,
   "id": "60525626",
   "metadata": {},
   "outputs": [
    {
     "name": "stdout",
     "output_type": "stream",
     "text": [
      "<class 'pandas.core.frame.DataFrame'>\n",
      "RangeIndex: 1000 entries, 0 to 999\n",
      "Data columns (total 10 columns):\n",
      " #   Column             Non-Null Count  Dtype \n",
      "---  ------             --------------  ----- \n",
      " 0   track_id           1000 non-null   object\n",
      " 1   name               1000 non-null   object\n",
      " 2   artist_name        1000 non-null   object\n",
      " 3   popularity         1000 non-null   int64 \n",
      " 4   duration_ms        1000 non-null   int64 \n",
      " 5   explicit           1000 non-null   bool  \n",
      " 6   track_number       1000 non-null   int64 \n",
      " 7   disc_number        1000 non-null   int64 \n",
      " 8   available_markets  1000 non-null   object\n",
      " 9   album_type         1000 non-null   object\n",
      "dtypes: bool(1), int64(4), object(5)\n",
      "memory usage: 71.4+ KB\n"
     ]
    }
   ],
   "source": [
    "track_df.info()"
   ]
  }
 ],
 "metadata": {
  "kernelspec": {
   "display_name": "Python 3",
   "language": "python",
   "name": "python3"
  },
  "language_info": {
   "codemirror_mode": {
    "name": "ipython",
    "version": 3
   },
   "file_extension": ".py",
   "mimetype": "text/x-python",
   "name": "python",
   "nbconvert_exporter": "python",
   "pygments_lexer": "ipython3",
   "version": "3.9.5"
  }
 },
 "nbformat": 4,
 "nbformat_minor": 5
}
