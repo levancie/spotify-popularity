{
 "cells": [
  {
   "cell_type": "markdown",
   "id": "f70475c6",
   "metadata": {},
   "source": [
    "# Exploratory Data Analysis |  Modeling Spotify track popularity\n",
    "## Leo Evancie, Springboard Data Science Career Track\n",
    "\n",
    "This is the second step in a capstone project to model music popularity on Spotify, a popular streaming service. Further project details and rationale can be found in the document 'Proposal.pdf'.\n",
    "\n",
    "In this notebook, I will take a deeper dive into my cleaned dataset of nearly 10,000 tracks pulled from Spotify's API. I will visualize key relationships and look for clues to help guide the later development of my model.\n",
    "\n",
    "First, I'll load packages and read my cleaned data into a DataFrame:"
   ]
  },
  {
   "cell_type": "code",
   "execution_count": 1,
   "id": "e6e05acc",
   "metadata": {},
   "outputs": [],
   "source": [
    "import pandas as pd\n",
    "import numpy as np\n",
    "from matplotlib import pyplot as plt\n",
    "import seaborn as sns"
   ]
  },
  {
   "cell_type": "code",
   "execution_count": 2,
   "id": "49ae3dce",
   "metadata": {},
   "outputs": [],
   "source": [
    "df = pd.read_csv('../data/cleaned.csv', index_col=0)"
   ]
  },
  {
   "cell_type": "markdown",
   "id": "3c2ca11f",
   "metadata": {},
   "source": [
    "I looked at the `popularity` column while data wrangling. Here, again, is its distribution:"
   ]
  },
  {
   "cell_type": "code",
   "execution_count": 3,
   "id": "72b9bdd0",
   "metadata": {},
   "outputs": [
    {
     "data": {
      "image/png": "[encoded data removed]",
      "text/plain": [
       "<Figure size 432x288 with 1 Axes>"
      ]
     },
     "metadata": {
      "needs_background": "light"
     },
     "output_type": "display_data"
    }
   ],
   "source": [
    "plt.hist('popularity', data=df, bins=30)\n",
    "plt.xlabel('track popularity')\n",
    "plt.ylabel('count')\n",
    "plt.show()"
   ]
  },
  {
   "cell_type": "markdown",
   "id": "fb4f20aa",
   "metadata": {},
   "source": [
    "As mentioned in the previous notebook, the large number of tracks with a `popularity` of zero means that a classification model may be more appropriate, rather than trying to model the specific value from 0 to 100. Looking at the above distribution, a score of 50 or higher seems like a good cutoff. I can use that to create a Boolean column to represent the binary state of popular / not popular."
   ]
  },
  {
   "cell_type": "code",
   "execution_count": 4,
   "id": "030d3f74",
   "metadata": {},
   "outputs": [
    {
     "data": {
      "text/html": [
       "<div>\n",
       "<style scoped>\n",
       "    .dataframe tbody tr th:only-of-type {\n",
       "        vertical-align: middle;\n",
       "    }\n",
       "\n",
       "    .dataframe tbody tr th {\n",
       "        vertical-align: top;\n",
       "    }\n",
       "\n",
       "    .dataframe thead th {\n",
       "        text-align: right;\n",
       "    }\n",
       "</style>\n",
       "<table border=\"1\" class=\"dataframe\">\n",
       "  <thead>\n",
       "    <tr style=\"text-align: right;\">\n",
       "      <th></th>\n",
       "      <th>popularity_int</th>\n",
       "      <th>popularity_bool</th>\n",
       "    </tr>\n",
       "  </thead>\n",
       "  <tbody>\n",
       "    <tr>\n",
       "      <th>0</th>\n",
       "      <td>82</td>\n",
       "      <td>True</td>\n",
       "    </tr>\n",
       "    <tr>\n",
       "      <th>1</th>\n",
       "      <td>58</td>\n",
       "      <td>True</td>\n",
       "    </tr>\n",
       "    <tr>\n",
       "      <th>2</th>\n",
       "      <td>60</td>\n",
       "      <td>True</td>\n",
       "    </tr>\n",
       "    <tr>\n",
       "      <th>3</th>\n",
       "      <td>33</td>\n",
       "      <td>False</td>\n",
       "    </tr>\n",
       "    <tr>\n",
       "      <th>4</th>\n",
       "      <td>76</td>\n",
       "      <td>True</td>\n",
       "    </tr>\n",
       "    <tr>\n",
       "      <th>5</th>\n",
       "      <td>56</td>\n",
       "      <td>True</td>\n",
       "    </tr>\n",
       "    <tr>\n",
       "      <th>6</th>\n",
       "      <td>78</td>\n",
       "      <td>True</td>\n",
       "    </tr>\n",
       "    <tr>\n",
       "      <th>7</th>\n",
       "      <td>25</td>\n",
       "      <td>False</td>\n",
       "    </tr>\n",
       "    <tr>\n",
       "      <th>8</th>\n",
       "      <td>81</td>\n",
       "      <td>True</td>\n",
       "    </tr>\n",
       "    <tr>\n",
       "      <th>9</th>\n",
       "      <td>51</td>\n",
       "      <td>True</td>\n",
       "    </tr>\n",
       "  </tbody>\n",
       "</table>\n",
       "</div>"
      ],
      "text/plain": [
       "   popularity_int  popularity_bool\n",
       "0              82             True\n",
       "1              58             True\n",
       "2              60             True\n",
       "3              33            False\n",
       "4              76             True\n",
       "5              56             True\n",
       "6              78             True\n",
       "7              25            False\n",
       "8              81             True\n",
       "9              51             True"
      ]
     },
     "execution_count": 4,
     "metadata": {},
     "output_type": "execute_result"
    }
   ],
   "source": [
    "df['popularity_bool'] = df['popularity'] >= 50\n",
    "df.rename(columns={'popularity':'popularity_int'}, inplace=True)\n",
    "df[['popularity_int', 'popularity_bool']].head(10)"
   ]
  },
  {
   "cell_type": "markdown",
   "id": "26a6e65c",
   "metadata": {},
   "source": [
    "That seems to have worked. How many popular tracks do I have here?"
   ]
  },
  {
   "cell_type": "code",
   "execution_count": 5,
   "id": "32b3fb94",
   "metadata": {},
   "outputs": [
    {
     "data": {
      "text/plain": [
       "0.48568818514007306"
      ]
     },
     "execution_count": 5,
     "metadata": {},
     "output_type": "execute_result"
    }
   ],
   "source": [
    "np.sum(df.popularity_bool) / len(df)"
   ]
  },
  {
   "cell_type": "markdown",
   "id": "bdb2a5e5",
   "metadata": {},
   "source": [
    "It's an even split. This is good. If popular tracks were the vast minority or majority, a classification model would not be as interesting. Still, I will keep `popularity_int` in my dataset, both for its valuable precision and so that I may still attempt a regression model for comparison's sake.\n",
    "\n",
    "Now, let's get an overview of the correlations between my quantitative variables."
   ]
  },
  {
   "cell_type": "code",
   "execution_count": 6,
   "id": "cc378ad5",
   "metadata": {},
   "outputs": [
    {
     "data": {
      "image/png": "[encoded data removed]",
      "text/plain": [
       "<Figure size 1080x720 with 2 Axes>"
      ]
     },
     "metadata": {
      "needs_background": "light"
     },
     "output_type": "display_data"
    }
   ],
   "source": [
    "fig, ax = plt.subplots(figsize=(15, 10))\n",
    "sns.heatmap(df.corr())\n",
    "plt.show()"
   ]
  },
  {
   "cell_type": "markdown",
   "id": "4986a1e8",
   "metadata": {},
   "source": [
    "Obviously, my two popularity columns are near-perfectly correlated. (That's a good reminder to exclude one when trying to model the other.) I notice only a few other positive correlations: `explicit`, `danceability`, `loudness`, and `collab`. None of those are as strong as the negative correlation with `track_number` and `instrumentalness`. Looks like instrumental music fares much worse on Spotify, popularity-wise. But what should we make of `track_number`?"
   ]
  },
  {
   "cell_type": "code",
   "execution_count": 7,
   "id": "316a9f33",
   "metadata": {},
   "outputs": [
    {
     "data": {
      "text/plain": [
       "1      1870\n",
       "2       874\n",
       "3       819\n",
       "4       666\n",
       "5       594\n",
       "       ... \n",
       "105       5\n",
       "106       2\n",
       "122       1\n",
       "107       1\n",
       "111       1\n",
       "Name: track_number, Length: 109, dtype: int64"
      ]
     },
     "execution_count": 7,
     "metadata": {},
     "output_type": "execute_result"
    }
   ],
   "source": [
    "df.track_number.value_counts()"
   ]
  },
  {
   "cell_type": "code",
   "execution_count": 8,
   "id": "e26d18c6",
   "metadata": {},
   "outputs": [
    {
     "data": {
      "image/png": "[encoded data removed]",
      "text/plain": [
       "<Figure size 432x288 with 1 Axes>"
      ]
     },
     "metadata": {
      "needs_background": "light"
     },
     "output_type": "display_data"
    }
   ],
   "source": [
    "plt.hist('track_number', data=df, bins=20)\n",
    "plt.xlabel('track number')\n",
    "plt.show()"
   ]
  },
  {
   "cell_type": "markdown",
   "id": "c788c9a3",
   "metadata": {},
   "source": [
    "Track number appears to be exponentially distributed. This makes intuitive sense. Typically, an album has somewhere around 12 tracks, while anthologies and compliations have more, with successively higher track numbers being decreasingly common. As such, I'm surprised by the much higher track numbers. What kinds of collections have track numbers in the 50s, 60s, even over 100? I can't remember ever encountering such an album.\n",
    "\n",
    "I will isolate the tracks with notably high track numbers and inspect."
   ]
  },
  {
   "cell_type": "code",
   "execution_count": 9,
   "id": "95ffa1d1",
   "metadata": {},
   "outputs": [
    {
     "data": {
      "text/html": [
       "<div>\n",
       "<style scoped>\n",
       "    .dataframe tbody tr th:only-of-type {\n",
       "        vertical-align: middle;\n",
       "    }\n",
       "\n",
       "    .dataframe tbody tr th {\n",
       "        vertical-align: top;\n",
       "    }\n",
       "\n",
       "    .dataframe thead th {\n",
       "        text-align: right;\n",
       "    }\n",
       "</style>\n",
       "<table border=\"1\" class=\"dataframe\">\n",
       "  <thead>\n",
       "    <tr style=\"text-align: right;\">\n",
       "      <th></th>\n",
       "      <th>name</th>\n",
       "      <th>artist</th>\n",
       "      <th>popularity_bool</th>\n",
       "      <th>track_number</th>\n",
       "    </tr>\n",
       "  </thead>\n",
       "  <tbody>\n",
       "    <tr>\n",
       "      <th>8597</th>\n",
       "      <td>Stay Loud - Official Decibel outdoor 2020 Tribute</td>\n",
       "      <td>Frequencerz</td>\n",
       "      <td>False</td>\n",
       "      <td>122</td>\n",
       "    </tr>\n",
       "    <tr>\n",
       "      <th>7485</th>\n",
       "      <td>Wish Outdoor 2019 Worldwide Anthem</td>\n",
       "      <td>Frequencerz</td>\n",
       "      <td>False</td>\n",
       "      <td>111</td>\n",
       "    </tr>\n",
       "    <tr>\n",
       "      <th>5659</th>\n",
       "      <td>A State Of Trance Year Mix 2017 - A Magical Pa...</td>\n",
       "      <td>Armin van Buuren</td>\n",
       "      <td>False</td>\n",
       "      <td>107</td>\n",
       "    </tr>\n",
       "    <tr>\n",
       "      <th>7449</th>\n",
       "      <td>A State Of Trance Year Mix 2019 (Mixed) - Outr...</td>\n",
       "      <td>Armin van Buuren</td>\n",
       "      <td>False</td>\n",
       "      <td>106</td>\n",
       "    </tr>\n",
       "    <tr>\n",
       "      <th>5623</th>\n",
       "      <td>Leave A Message (Mix Cut)</td>\n",
       "      <td>Will Atkinson</td>\n",
       "      <td>False</td>\n",
       "      <td>106</td>\n",
       "    </tr>\n",
       "    <tr>\n",
       "      <th>8379</th>\n",
       "      <td>A State Of Trance Year Mix 2020 (Mixed) - Road...</td>\n",
       "      <td>Armin van Buuren</td>\n",
       "      <td>False</td>\n",
       "      <td>105</td>\n",
       "    </tr>\n",
       "    <tr>\n",
       "      <th>7317</th>\n",
       "      <td>Stickup (Mixed) - Maarten de Jong Remix</td>\n",
       "      <td>Armin van Buuren</td>\n",
       "      <td>False</td>\n",
       "      <td>105</td>\n",
       "    </tr>\n",
       "    <tr>\n",
       "      <th>5743</th>\n",
       "      <td>Wraith (Mix Cut)</td>\n",
       "      <td>DRYM</td>\n",
       "      <td>False</td>\n",
       "      <td>105</td>\n",
       "    </tr>\n",
       "    <tr>\n",
       "      <th>6443</th>\n",
       "      <td>A State Of Trance Year Mix 2018 (Mixed) - Outr...</td>\n",
       "      <td>Armin van Buuren</td>\n",
       "      <td>False</td>\n",
       "      <td>105</td>\n",
       "    </tr>\n",
       "    <tr>\n",
       "      <th>5927</th>\n",
       "      <td>Wraith</td>\n",
       "      <td>DRYM</td>\n",
       "      <td>False</td>\n",
       "      <td>105</td>\n",
       "    </tr>\n",
       "  </tbody>\n",
       "</table>\n",
       "</div>"
      ],
      "text/plain": [
       "                                                   name            artist  \\\n",
       "8597  Stay Loud - Official Decibel outdoor 2020 Tribute       Frequencerz   \n",
       "7485                 Wish Outdoor 2019 Worldwide Anthem       Frequencerz   \n",
       "5659  A State Of Trance Year Mix 2017 - A Magical Pa...  Armin van Buuren   \n",
       "7449  A State Of Trance Year Mix 2019 (Mixed) - Outr...  Armin van Buuren   \n",
       "5623                          Leave A Message (Mix Cut)     Will Atkinson   \n",
       "8379  A State Of Trance Year Mix 2020 (Mixed) - Road...  Armin van Buuren   \n",
       "7317            Stickup (Mixed) - Maarten de Jong Remix  Armin van Buuren   \n",
       "5743                                   Wraith (Mix Cut)              DRYM   \n",
       "6443  A State Of Trance Year Mix 2018 (Mixed) - Outr...  Armin van Buuren   \n",
       "5927                                             Wraith              DRYM   \n",
       "\n",
       "      popularity_bool  track_number  \n",
       "8597            False           122  \n",
       "7485            False           111  \n",
       "5659            False           107  \n",
       "7449            False           106  \n",
       "5623            False           106  \n",
       "8379            False           105  \n",
       "7317            False           105  \n",
       "5743            False           105  \n",
       "6443            False           105  \n",
       "5927            False           105  "
      ]
     },
     "execution_count": 9,
     "metadata": {},
     "output_type": "execute_result"
    }
   ],
   "source": [
    "high_tracks = df[df['track_number'] > 40][['name','artist','popularity_bool','track_number']]\\\n",
    "    .sort_values('track_number', ascending=False)\n",
    "high_tracks.head(10)"
   ]
  },
  {
   "cell_type": "markdown",
   "id": "4f4064db",
   "metadata": {},
   "source": [
    "As expected, there are just a few artists accounting for the bulk of the high track numbers. Just how many?"
   ]
  },
  {
   "cell_type": "code",
   "execution_count": 10,
   "id": "345f2fe0",
   "metadata": {},
   "outputs": [
    {
     "data": {
      "text/plain": [
       "237"
      ]
     },
     "execution_count": 10,
     "metadata": {},
     "output_type": "execute_result"
    }
   ],
   "source": [
    "high_track_artists = high_tracks.artist.unique()\n",
    "len(high_track_artists)"
   ]
  },
  {
   "cell_type": "markdown",
   "id": "a2626a71",
   "metadata": {},
   "source": [
    "How does that compare to the total artists?"
   ]
  },
  {
   "cell_type": "code",
   "execution_count": 11,
   "id": "f74a5447",
   "metadata": {},
   "outputs": [
    {
     "data": {
      "text/plain": [
       "0.07655038759689922"
      ]
     },
     "execution_count": 11,
     "metadata": {},
     "output_type": "execute_result"
    }
   ],
   "source": [
    "len(high_track_artists) / len(df.artist.unique())"
   ]
  },
  {
   "cell_type": "markdown",
   "id": "6629e55d",
   "metadata": {},
   "source": [
    "Just 0.08% of artists in the sample have any tracks with a higher track number than 40. What about the numbers of tracks?"
   ]
  },
  {
   "cell_type": "code",
   "execution_count": 12,
   "id": "5cf75362",
   "metadata": {},
   "outputs": [
    {
     "data": {
      "text/plain": [
       "0.06699147381242387"
      ]
     },
     "execution_count": 12,
     "metadata": {},
     "output_type": "execute_result"
    }
   ],
   "source": [
    "len(high_tracks) / len(df)"
   ]
  },
  {
   "cell_type": "markdown",
   "id": "ea759d8c",
   "metadata": {},
   "source": [
    "So, a similar proportion of tracks in the sample -- about 0.07% -- have a `track-number` higher than 40. This is such a small slice that it's tempting to remove it from the sample entirely. However, it is arguably a valid insight that tracks appearing in the latter portion of super-long albums and collections tend to have lower popularity, even if relatively few such collections exist. Indeed, this analysis could support the idea that artists hoping to optimize for popularity should stick to the conventional album length.\n",
    "\n",
    "But to fully understand the relationship, we must explore the notion of a \"single.\" Artists often do not release entire albums, but single standalone tracks. In such cases, the `track_number` value would presumably be 1. This could potentially cause misinterpretation of the simple relationship between track number and popularity. For example, if\n",
    "\n",
    "* singles have `track_number` 1 in the dataset, and\n",
    "* singles tend to be more popular than tracks from albums, (which seems likely, due to the prevalence of singles in pop music),\n",
    "\n",
    "then we would see an artificially inflated importance of early track numbers (particularly track number 1) in predicting popularity.\n",
    "\n",
    "I will split the data into singles and albums to reassess the popularity distributions and associations."
   ]
  },
  {
   "cell_type": "code",
   "execution_count": 13,
   "id": "5857bb33",
   "metadata": {},
   "outputs": [],
   "source": [
    "singles = df[df.album_type == 'single']\n",
    "albums = df[df.album_type != 'single']"
   ]
  },
  {
   "cell_type": "code",
   "execution_count": 14,
   "id": "3072266a",
   "metadata": {},
   "outputs": [
    {
     "data": {
      "text/plain": [
       "0.14514819326025172"
      ]
     },
     "execution_count": 14,
     "metadata": {},
     "output_type": "execute_result"
    }
   ],
   "source": [
    "len(singles) / len(df)"
   ]
  },
  {
   "cell_type": "markdown",
   "id": "fbe9d97b",
   "metadata": {},
   "source": [
    "Singles make up 14.5% of the sample. Let's test the first assumption from above: Singles in the dataset have `track_number` = 1."
   ]
  },
  {
   "cell_type": "code",
   "execution_count": 15,
   "id": "3c4fdc72",
   "metadata": {},
   "outputs": [
    {
     "data": {
      "image/png": "[encoded data removed]",
      "text/plain": [
       "<Figure size 432x288 with 1 Axes>"
      ]
     },
     "metadata": {
      "needs_background": "light"
     },
     "output_type": "display_data"
    }
   ],
   "source": [
    "plt.hist(singles.track_number, bins=50)\n",
    "plt.show()"
   ]
  },
  {
   "cell_type": "markdown",
   "id": "ce2008d0",
   "metadata": {},
   "source": [
    "I see that this assumption was not entirely correct. While the vast majority of singles have `track_number` = 1, there are a few with higher track numbers. This is close enough, though, to still cause a potential issue with interpretation.\n",
    "\n",
    "Now let's check assumption two: Singles are more popular."
   ]
  },
  {
   "cell_type": "code",
   "execution_count": 16,
   "id": "cfbe75c5",
   "metadata": {},
   "outputs": [
    {
     "data": {
      "image/png": "[encoded data removed]",
      "text/plain": [
       "<Figure size 432x288 with 2 Axes>"
      ]
     },
     "metadata": {
      "needs_background": "light"
     },
     "output_type": "display_data"
    }
   ],
   "source": [
    "fig, axs = plt.subplots(1, 2, sharey=True)\n",
    "axs[0].hist('popularity_int', data=singles, density=True, bins=10)\n",
    "axs[0].axvline(singles.popularity_int.mean(), color='r')\n",
    "axs[0].set_title('singles popularity')\n",
    "axs[0].set_ylabel('density')\n",
    "axs[1].hist('popularity_int', data=albums, density=True, bins=10)\n",
    "axs[1].axvline(albums.popularity_int.mean(), color='r')\n",
    "axs[1].set_title('non-singles popularity')\n",
    "\n",
    "plt.show()"
   ]
  },
  {
   "cell_type": "markdown",
   "id": "2b7693e1",
   "metadata": {},
   "source": [
    "For singles, popularity is distributed unimodally, with the addition of a cluster of zeroes. Even with said cluster, the mean is much higher than the popularity of non-single tracks, which has a bimodal distribution, with a greater density of tracks in the low range.\n",
    "\n",
    "Therefore, I need to be mindful when ascribing importance of `track_number` to popularity. Part of the covariance between these two variables can be explained by whether or not the track is a single.\n",
    "\n",
    "And so, as I did with popularity, I will create a new Boolean column to indicate whether a track is a single."
   ]
  },
  {
   "cell_type": "code",
   "execution_count": 17,
   "id": "41735bfc",
   "metadata": {},
   "outputs": [
    {
     "data": {
      "text/html": [
       "<div>\n",
       "<style scoped>\n",
       "    .dataframe tbody tr th:only-of-type {\n",
       "        vertical-align: middle;\n",
       "    }\n",
       "\n",
       "    .dataframe tbody tr th {\n",
       "        vertical-align: top;\n",
       "    }\n",
       "\n",
       "    .dataframe thead th {\n",
       "        text-align: right;\n",
       "    }\n",
       "</style>\n",
       "<table border=\"1\" class=\"dataframe\">\n",
       "  <thead>\n",
       "    <tr style=\"text-align: right;\">\n",
       "      <th></th>\n",
       "      <th>album_type</th>\n",
       "      <th>single</th>\n",
       "    </tr>\n",
       "  </thead>\n",
       "  <tbody>\n",
       "    <tr>\n",
       "      <th>0</th>\n",
       "      <td>album</td>\n",
       "      <td>False</td>\n",
       "    </tr>\n",
       "    <tr>\n",
       "      <th>1</th>\n",
       "      <td>album</td>\n",
       "      <td>False</td>\n",
       "    </tr>\n",
       "    <tr>\n",
       "      <th>2</th>\n",
       "      <td>album</td>\n",
       "      <td>False</td>\n",
       "    </tr>\n",
       "    <tr>\n",
       "      <th>3</th>\n",
       "      <td>single</td>\n",
       "      <td>True</td>\n",
       "    </tr>\n",
       "    <tr>\n",
       "      <th>4</th>\n",
       "      <td>album</td>\n",
       "      <td>False</td>\n",
       "    </tr>\n",
       "    <tr>\n",
       "      <th>5</th>\n",
       "      <td>single</td>\n",
       "      <td>True</td>\n",
       "    </tr>\n",
       "    <tr>\n",
       "      <th>6</th>\n",
       "      <td>single</td>\n",
       "      <td>True</td>\n",
       "    </tr>\n",
       "    <tr>\n",
       "      <th>7</th>\n",
       "      <td>single</td>\n",
       "      <td>True</td>\n",
       "    </tr>\n",
       "    <tr>\n",
       "      <th>8</th>\n",
       "      <td>album</td>\n",
       "      <td>False</td>\n",
       "    </tr>\n",
       "    <tr>\n",
       "      <th>9</th>\n",
       "      <td>single</td>\n",
       "      <td>True</td>\n",
       "    </tr>\n",
       "  </tbody>\n",
       "</table>\n",
       "</div>"
      ],
      "text/plain": [
       "  album_type  single\n",
       "0      album   False\n",
       "1      album   False\n",
       "2      album   False\n",
       "3     single    True\n",
       "4      album   False\n",
       "5     single    True\n",
       "6     single    True\n",
       "7     single    True\n",
       "8      album   False\n",
       "9     single    True"
      ]
     },
     "execution_count": 17,
     "metadata": {},
     "output_type": "execute_result"
    }
   ],
   "source": [
    "df['single'] = df['album_type'] == 'single'\n",
    "df[['album_type', 'single']].head(10)"
   ]
  },
  {
   "cell_type": "markdown",
   "id": "e6572816",
   "metadata": {},
   "source": [
    "With this new feature available, I'll check the correlation heatmap again."
   ]
  },
  {
   "cell_type": "code",
   "execution_count": 18,
   "id": "2228a414",
   "metadata": {},
   "outputs": [
    {
     "data": {
      "image/png": "[encoded data removed]",
      "text/plain": [
       "<Figure size 1080x720 with 2 Axes>"
      ]
     },
     "metadata": {
      "needs_background": "light"
     },
     "output_type": "display_data"
    }
   ],
   "source": [
    "fig, ax = plt.subplots(figsize=(15, 10))\n",
    "sns.heatmap(df.corr())\n",
    "plt.show()"
   ]
  },
  {
   "cell_type": "markdown",
   "id": "138f3e64",
   "metadata": {},
   "source": [
    "Looks like there's a modest correlation between popularity and singles. Let's isolate what appear to be some of the most noteworthy associations and look at the values. I will include both popularity columns out of curiosity for how their respective correlations will differ."
   ]
  },
  {
   "cell_type": "code",
   "execution_count": 19,
   "id": "c19ac154",
   "metadata": {},
   "outputs": [
    {
     "data": {
      "text/html": [
       "<div>\n",
       "<style scoped>\n",
       "    .dataframe tbody tr th:only-of-type {\n",
       "        vertical-align: middle;\n",
       "    }\n",
       "\n",
       "    .dataframe tbody tr th {\n",
       "        vertical-align: top;\n",
       "    }\n",
       "\n",
       "    .dataframe thead th {\n",
       "        text-align: right;\n",
       "    }\n",
       "</style>\n",
       "<table border=\"1\" class=\"dataframe\">\n",
       "  <thead>\n",
       "    <tr style=\"text-align: right;\">\n",
       "      <th></th>\n",
       "      <th>popularity_int</th>\n",
       "      <th>popularity_bool</th>\n",
       "      <th>explicit</th>\n",
       "      <th>track_number</th>\n",
       "      <th>danceability</th>\n",
       "      <th>speechiness</th>\n",
       "      <th>available_markets_total</th>\n",
       "      <th>single</th>\n",
       "    </tr>\n",
       "  </thead>\n",
       "  <tbody>\n",
       "    <tr>\n",
       "      <th>popularity_int</th>\n",
       "      <td>1.000000</td>\n",
       "      <td>0.962547</td>\n",
       "      <td>0.395777</td>\n",
       "      <td>-0.337423</td>\n",
       "      <td>0.277747</td>\n",
       "      <td>0.081185</td>\n",
       "      <td>0.119345</td>\n",
       "      <td>0.244289</td>\n",
       "    </tr>\n",
       "    <tr>\n",
       "      <th>popularity_bool</th>\n",
       "      <td>0.962547</td>\n",
       "      <td>1.000000</td>\n",
       "      <td>0.400368</td>\n",
       "      <td>-0.362931</td>\n",
       "      <td>0.285391</td>\n",
       "      <td>0.096418</td>\n",
       "      <td>0.053120</td>\n",
       "      <td>0.233769</td>\n",
       "    </tr>\n",
       "    <tr>\n",
       "      <th>explicit</th>\n",
       "      <td>0.395777</td>\n",
       "      <td>0.400368</td>\n",
       "      <td>1.000000</td>\n",
       "      <td>-0.168758</td>\n",
       "      <td>0.330124</td>\n",
       "      <td>0.369945</td>\n",
       "      <td>0.122941</td>\n",
       "      <td>0.129150</td>\n",
       "    </tr>\n",
       "    <tr>\n",
       "      <th>track_number</th>\n",
       "      <td>-0.337423</td>\n",
       "      <td>-0.362931</td>\n",
       "      <td>-0.168758</td>\n",
       "      <td>1.000000</td>\n",
       "      <td>-0.204532</td>\n",
       "      <td>-0.018794</td>\n",
       "      <td>-0.155112</td>\n",
       "      <td>-0.237193</td>\n",
       "    </tr>\n",
       "    <tr>\n",
       "      <th>danceability</th>\n",
       "      <td>0.277747</td>\n",
       "      <td>0.285391</td>\n",
       "      <td>0.330124</td>\n",
       "      <td>-0.204532</td>\n",
       "      <td>1.000000</td>\n",
       "      <td>0.213082</td>\n",
       "      <td>0.103247</td>\n",
       "      <td>0.163039</td>\n",
       "    </tr>\n",
       "    <tr>\n",
       "      <th>speechiness</th>\n",
       "      <td>0.081185</td>\n",
       "      <td>0.096418</td>\n",
       "      <td>0.369945</td>\n",
       "      <td>-0.018794</td>\n",
       "      <td>0.213082</td>\n",
       "      <td>1.000000</td>\n",
       "      <td>0.060176</td>\n",
       "      <td>0.070629</td>\n",
       "    </tr>\n",
       "    <tr>\n",
       "      <th>available_markets_total</th>\n",
       "      <td>0.119345</td>\n",
       "      <td>0.053120</td>\n",
       "      <td>0.122941</td>\n",
       "      <td>-0.155112</td>\n",
       "      <td>0.103247</td>\n",
       "      <td>0.060176</td>\n",
       "      <td>1.000000</td>\n",
       "      <td>0.124748</td>\n",
       "    </tr>\n",
       "    <tr>\n",
       "      <th>single</th>\n",
       "      <td>0.244289</td>\n",
       "      <td>0.233769</td>\n",
       "      <td>0.129150</td>\n",
       "      <td>-0.237193</td>\n",
       "      <td>0.163039</td>\n",
       "      <td>0.070629</td>\n",
       "      <td>0.124748</td>\n",
       "      <td>1.000000</td>\n",
       "    </tr>\n",
       "  </tbody>\n",
       "</table>\n",
       "</div>"
      ],
      "text/plain": [
       "                         popularity_int  popularity_bool  explicit  \\\n",
       "popularity_int                 1.000000         0.962547  0.395777   \n",
       "popularity_bool                0.962547         1.000000  0.400368   \n",
       "explicit                       0.395777         0.400368  1.000000   \n",
       "track_number                  -0.337423        -0.362931 -0.168758   \n",
       "danceability                   0.277747         0.285391  0.330124   \n",
       "speechiness                    0.081185         0.096418  0.369945   \n",
       "available_markets_total        0.119345         0.053120  0.122941   \n",
       "single                         0.244289         0.233769  0.129150   \n",
       "\n",
       "                         track_number  danceability  speechiness  \\\n",
       "popularity_int              -0.337423      0.277747     0.081185   \n",
       "popularity_bool             -0.362931      0.285391     0.096418   \n",
       "explicit                    -0.168758      0.330124     0.369945   \n",
       "track_number                 1.000000     -0.204532    -0.018794   \n",
       "danceability                -0.204532      1.000000     0.213082   \n",
       "speechiness                 -0.018794      0.213082     1.000000   \n",
       "available_markets_total     -0.155112      0.103247     0.060176   \n",
       "single                      -0.237193      0.163039     0.070629   \n",
       "\n",
       "                         available_markets_total    single  \n",
       "popularity_int                          0.119345  0.244289  \n",
       "popularity_bool                         0.053120  0.233769  \n",
       "explicit                                0.122941  0.129150  \n",
       "track_number                           -0.155112 -0.237193  \n",
       "danceability                            0.103247  0.163039  \n",
       "speechiness                             0.060176  0.070629  \n",
       "available_markets_total                 1.000000  0.124748  \n",
       "single                                  0.124748  1.000000  "
      ]
     },
     "execution_count": 19,
     "metadata": {},
     "output_type": "execute_result"
    }
   ],
   "source": [
    "df[['popularity_int', 'popularity_bool', 'explicit', 'track_number', 'danceability', 'speechiness',\\\n",
    "    'available_markets_total', 'single']].corr()"
   ]
  },
  {
   "cell_type": "markdown",
   "id": "55df1274",
   "metadata": {},
   "source": [
    "These are early candidates for features to include in my model, but I'll select features more thoroughly in the next notebook."
   ]
  },
  {
   "cell_type": "code",
   "execution_count": null,
   "id": "da407fdc",
   "metadata": {},
   "outputs": [],
   "source": []
  }
 ],
 "metadata": {
  "kernelspec": {
   "display_name": "Python 3",
   "language": "python",
   "name": "python3"
  },
  "language_info": {
   "codemirror_mode": {
    "name": "ipython",
    "version": 3
   },
   "file_extension": ".py",
   "mimetype": "text/x-python",
   "name": "python",
   "nbconvert_exporter": "python",
   "pygments_lexer": "ipython3",
   "version": "3.9.5"
  }
 },
 "nbformat": 4,
 "nbformat_minor": 5
}
